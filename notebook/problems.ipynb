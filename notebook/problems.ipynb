{
 "cells": [
  {
   "cell_type": "markdown",
   "id": "ac622319",
   "metadata": {},
   "source": [
    "# Descriptive statistics problems"
   ]
  },
  {
   "cell_type": "markdown",
   "id": "5e0ab0d5",
   "metadata": {},
   "source": [
    "### Exercise 1\n",
    "\n",
    "We will use NumPy to obtain information to describe statistically.\n",
    "\n",
    "- Generate an array of 100 elements following a normal distribution.\n",
    "- Generate an array of 100 elements following a chi-square distribution with 3 degrees of freedom.\n",
    "- Calculate the main metrics and statistical measures that best describe the two vectors."
   ]
  },
  {
   "cell_type": "code",
   "execution_count": 49,
   "id": "34720ab6",
   "metadata": {},
   "outputs": [],
   "source": [
    "# TODO\n",
    "import numpy as np\n",
    "import scipy.stats\n",
    "import pandas as pd \n",
    "\n",
    "# Generate an array of 100 elements following a normal distribution.\n",
    "normal = np.random.normal(loc=0, scale=1, size=100)\n",
    "\n",
    "# Generate an array of 100 elements following a chi-square distribution with 3 degrees of freedom.\n",
    "chisquare = np.random.chisquare(df=3, size=100)\n",
    "\n",
    "# Ponerlo en DF, para sacar misma info que como en clase:\n",
    "df = pd.DataFrame({'Normal': normal,'Chi-Square': chisquare})\n"
   ]
  },
  {
   "cell_type": "code",
   "execution_count": 50,
   "id": "1324cae9",
   "metadata": {},
   "outputs": [
    {
     "data": {
      "text/html": [
       "<div>\n",
       "<style scoped>\n",
       "    .dataframe tbody tr th:only-of-type {\n",
       "        vertical-align: middle;\n",
       "    }\n",
       "\n",
       "    .dataframe tbody tr th {\n",
       "        vertical-align: top;\n",
       "    }\n",
       "\n",
       "    .dataframe thead th {\n",
       "        text-align: right;\n",
       "    }\n",
       "</style>\n",
       "<table border=\"1\" class=\"dataframe\">\n",
       "  <thead>\n",
       "    <tr style=\"text-align: right;\">\n",
       "      <th></th>\n",
       "      <th>Normal</th>\n",
       "      <th>Chi-Square</th>\n",
       "    </tr>\n",
       "  </thead>\n",
       "  <tbody>\n",
       "    <tr>\n",
       "      <th>0</th>\n",
       "      <td>-0.565641</td>\n",
       "      <td>2.154267</td>\n",
       "    </tr>\n",
       "    <tr>\n",
       "      <th>1</th>\n",
       "      <td>-0.237221</td>\n",
       "      <td>1.801700</td>\n",
       "    </tr>\n",
       "    <tr>\n",
       "      <th>2</th>\n",
       "      <td>-0.570844</td>\n",
       "      <td>2.242640</td>\n",
       "    </tr>\n",
       "    <tr>\n",
       "      <th>3</th>\n",
       "      <td>-0.346540</td>\n",
       "      <td>0.331055</td>\n",
       "    </tr>\n",
       "    <tr>\n",
       "      <th>4</th>\n",
       "      <td>-0.283013</td>\n",
       "      <td>3.029589</td>\n",
       "    </tr>\n",
       "  </tbody>\n",
       "</table>\n",
       "</div>"
      ],
      "text/plain": [
       "     Normal  Chi-Square\n",
       "0 -0.565641    2.154267\n",
       "1 -0.237221    1.801700\n",
       "2 -0.570844    2.242640\n",
       "3 -0.346540    0.331055\n",
       "4 -0.283013    3.029589"
      ]
     },
     "execution_count": 50,
     "metadata": {},
     "output_type": "execute_result"
    }
   ],
   "source": [
    "df.head()"
   ]
  },
  {
   "cell_type": "code",
   "execution_count": 51,
   "id": "e8b0fefa",
   "metadata": {},
   "outputs": [
    {
     "data": {
      "text/html": [
       "<div>\n",
       "<style scoped>\n",
       "    .dataframe tbody tr th:only-of-type {\n",
       "        vertical-align: middle;\n",
       "    }\n",
       "\n",
       "    .dataframe tbody tr th {\n",
       "        vertical-align: top;\n",
       "    }\n",
       "\n",
       "    .dataframe thead th {\n",
       "        text-align: right;\n",
       "    }\n",
       "</style>\n",
       "<table border=\"1\" class=\"dataframe\">\n",
       "  <thead>\n",
       "    <tr style=\"text-align: right;\">\n",
       "      <th></th>\n",
       "      <th>Normal</th>\n",
       "      <th>Chi-Square</th>\n",
       "    </tr>\n",
       "  </thead>\n",
       "  <tbody>\n",
       "    <tr>\n",
       "      <th>95</th>\n",
       "      <td>1.748110</td>\n",
       "      <td>3.154965</td>\n",
       "    </tr>\n",
       "    <tr>\n",
       "      <th>96</th>\n",
       "      <td>-2.851127</td>\n",
       "      <td>1.162094</td>\n",
       "    </tr>\n",
       "    <tr>\n",
       "      <th>97</th>\n",
       "      <td>0.882266</td>\n",
       "      <td>1.746081</td>\n",
       "    </tr>\n",
       "    <tr>\n",
       "      <th>98</th>\n",
       "      <td>-1.507427</td>\n",
       "      <td>3.742140</td>\n",
       "    </tr>\n",
       "    <tr>\n",
       "      <th>99</th>\n",
       "      <td>0.711677</td>\n",
       "      <td>4.779873</td>\n",
       "    </tr>\n",
       "  </tbody>\n",
       "</table>\n",
       "</div>"
      ],
      "text/plain": [
       "      Normal  Chi-Square\n",
       "95  1.748110    3.154965\n",
       "96 -2.851127    1.162094\n",
       "97  0.882266    1.746081\n",
       "98 -1.507427    3.742140\n",
       "99  0.711677    4.779873"
      ]
     },
     "execution_count": 51,
     "metadata": {},
     "output_type": "execute_result"
    }
   ],
   "source": [
    "df.tail()"
   ]
  },
  {
   "cell_type": "code",
   "execution_count": 52,
   "id": "fe896dcd",
   "metadata": {},
   "outputs": [
    {
     "data": {
      "text/html": [
       "<div>\n",
       "<style scoped>\n",
       "    .dataframe tbody tr th:only-of-type {\n",
       "        vertical-align: middle;\n",
       "    }\n",
       "\n",
       "    .dataframe tbody tr th {\n",
       "        vertical-align: top;\n",
       "    }\n",
       "\n",
       "    .dataframe thead th {\n",
       "        text-align: right;\n",
       "    }\n",
       "</style>\n",
       "<table border=\"1\" class=\"dataframe\">\n",
       "  <thead>\n",
       "    <tr style=\"text-align: right;\">\n",
       "      <th></th>\n",
       "      <th>count</th>\n",
       "      <th>mean</th>\n",
       "      <th>std</th>\n",
       "      <th>min</th>\n",
       "      <th>25%</th>\n",
       "      <th>50%</th>\n",
       "      <th>75%</th>\n",
       "      <th>max</th>\n",
       "    </tr>\n",
       "  </thead>\n",
       "  <tbody>\n",
       "    <tr>\n",
       "      <th>Normal</th>\n",
       "      <td>100.0</td>\n",
       "      <td>-0.071330</td>\n",
       "      <td>1.055033</td>\n",
       "      <td>-2.989309</td>\n",
       "      <td>-0.841623</td>\n",
       "      <td>-0.109828</td>\n",
       "      <td>0.604329</td>\n",
       "      <td>2.413977</td>\n",
       "    </tr>\n",
       "    <tr>\n",
       "      <th>Chi-Square</th>\n",
       "      <td>100.0</td>\n",
       "      <td>2.858424</td>\n",
       "      <td>2.515578</td>\n",
       "      <td>0.116281</td>\n",
       "      <td>1.161719</td>\n",
       "      <td>2.122795</td>\n",
       "      <td>3.665488</td>\n",
       "      <td>14.906108</td>\n",
       "    </tr>\n",
       "  </tbody>\n",
       "</table>\n",
       "</div>"
      ],
      "text/plain": [
       "            count      mean       std       min       25%       50%       75%  \\\n",
       "Normal      100.0 -0.071330  1.055033 -2.989309 -0.841623 -0.109828  0.604329   \n",
       "Chi-Square  100.0  2.858424  2.515578  0.116281  1.161719  2.122795  3.665488   \n",
       "\n",
       "                  max  \n",
       "Normal       2.413977  \n",
       "Chi-Square  14.906108  "
      ]
     },
     "execution_count": 52,
     "metadata": {},
     "output_type": "execute_result"
    }
   ],
   "source": [
    "df.describe().T"
   ]
  },
  {
   "cell_type": "code",
   "execution_count": 53,
   "id": "fd148947",
   "metadata": {},
   "outputs": [
    {
     "name": "stdout",
     "output_type": "stream",
     "text": [
      "Promedio de distrib normal: -0.07133048806539839\n",
      "Promedio de X2: 2.858424273714214\n"
     ]
    }
   ],
   "source": [
    "#Intento hacerlo también con numpy para practicar : \n",
    "\n",
    "# Media: \n",
    "media_normal = normal.mean()\n",
    "print(\"Promedio de distrib normal:\", media_normal)\n",
    "    #otra ocpion para X2:\n",
    "print(f\"Promedio de X2: {np.mean(chisquare)}\")"
   ]
  },
  {
   "cell_type": "code",
   "execution_count": null,
   "id": "8ac2cd1f",
   "metadata": {},
   "outputs": [
    {
     "name": "stdout",
     "output_type": "stream",
     "text": [
      "Desviación estándar de la distribución normal: 0.9991888148847624\n"
     ]
    }
   ],
   "source": [
    "#Variance y Std = desviación estándar (ECART TYPE = racine carrée de la vraiance)\n",
    "\n",
    "N_n = len(normal)\n",
    "N_X2 = len(chisquare)\n",
    "\n",
    "variance_normal = ((normal - media_normal) ** 2).sum()\n",
    "std_normal = (variance / len(normal)) ** 0.5\n",
    "\n",
    "print(\"Desviación estándar de la distribución normal:\", std_normal)\n",
    "\n",
    "# ----> no sale el mismo num que la tabla --> averiguar xq"
   ]
  },
  {
   "cell_type": "code",
   "execution_count": 55,
   "id": "e1c8536d",
   "metadata": {},
   "outputs": [
    {
     "name": "stdout",
     "output_type": "stream",
     "text": [
      "Mediana de la distrib normal: -0.10982808635024016\n",
      "Mediana de la distrib X2: 2.1227945134533033\n"
     ]
    }
   ],
   "source": [
    "#Mediana :\n",
    "mediana_normal = np.median(normal)\n",
    "print(\"Mediana de la distrib normal:\", mediana_normal)\n",
    "\n",
    "    # otra opción :\n",
    "#Vamos a ordernar la distrib:   \n",
    "sort_X2 = sorted(chisquare)\n",
    "\n",
    "def mediana(N_X2):\n",
    "    if N_X2 % 2 == 1:  \n",
    "        return sort_X2[N_X2 // 2]  \n",
    "    else:\n",
    "        return (sort_X2[N_X2 // 2 - 1] + sort_X2[N_X2 // 2]) / 2\n",
    "    \n",
    "print(\"Mediana de la distrib X2:\", mediana(N_X2))\n",
    "\n",
    "\n",
    "\n",
    " "
   ]
  },
  {
   "cell_type": "code",
   "execution_count": 56,
   "metadata": {},
   "outputs": [
    {
     "name": "stdout",
     "output_type": "stream",
     "text": [
      "Moda de la distribución normal: -2.9893086139177565 con frecuencia: 1\n",
      "Moda de la distribución chi-cuadrado: 0.11628128446480067 con frecuencia: 1\n"
     ]
    }
   ],
   "source": [
    "#Moda : valores que más se repiten en el conjunto de datos\n",
    "moda_normal = scipy.stats.mode(normal)\n",
    "moda_X2 = scipy.stats.mode(chisquare)\n",
    "\n",
    "print(\"Moda de la distribución normal:\", moda_normal.mode, \"con frecuencia:\", moda_normal.count)\n",
    "print(\"Moda de la distribución chi-cuadrado:\", moda_X2.mode, \"con frecuencia:\", moda_X2.count)\n"
   ]
  },
  {
   "cell_type": "code",
   "execution_count": null,
   "id": "343d2937",
   "metadata": {},
   "outputs": [],
   "source": []
  },
  {
   "cell_type": "markdown",
   "id": "46c70c3d",
   "metadata": {},
   "source": [
    "### Exercise 2\n",
    "\n",
    "Write a Python program to calculate the standard deviation of the following data:\n",
    "\n",
    "```py\n",
    "data = [4, 2, 5, 8, 6]\n",
    "```"
   ]
  },
  {
   "cell_type": "code",
   "execution_count": 57,
   "id": "d590308e",
   "metadata": {},
   "outputs": [],
   "source": [
    "# TODO"
   ]
  }
 ],
 "metadata": {
  "kernelspec": {
   "display_name": "Python 3",
   "language": "python",
   "name": "python3"
  },
  "language_info": {
   "codemirror_mode": {
    "name": "ipython",
    "version": 3
   },
   "file_extension": ".py",
   "mimetype": "text/x-python",
   "name": "python",
   "nbconvert_exporter": "python",
   "pygments_lexer": "ipython3",
   "version": "3.11.4"
  }
 },
 "nbformat": 4,
 "nbformat_minor": 5
}
